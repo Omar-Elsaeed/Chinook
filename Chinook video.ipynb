{
 "cells": [
  {
   "cell_type": "code",
   "execution_count": 67,
   "id": "fe99bcc1",
   "metadata": {},
   "outputs": [
    {
     "name": "stdout",
     "output_type": "stream",
     "text": [
      "2.6.0\n",
      "3.38.2\n"
     ]
    }
   ],
   "source": [
    "import sqlite3\n",
    "print(sqlite3.version)\n",
    "print(sqlite3.sqlite_version)"
   ]
  },
  {
   "cell_type": "code",
   "execution_count": 76,
   "id": "5627526d",
   "metadata": {},
   "outputs": [
    {
     "name": "stdout",
     "output_type": "stream",
     "text": [
      "[(156, '...And Justice For All', 50), (257, '20th Century Masters - The Millennium Collection: The Best of Scorpions', 179), (296, 'A Copland Celebration, Vol. I', 230)]\n"
     ]
    }
   ],
   "source": [
    "conn = sqlite3.connect(\"chinook.db\")\n",
    "cur = conn.cursor()\n",
    "\n",
    "albums = cur.execute(\"\"\"select * from albums order by title limit 3; \"\"\").fetchall()\n",
    "print(albums)"
   ]
  },
  {
   "cell_type": "code",
   "execution_count": 30,
   "id": "d2f24b62",
   "metadata": {},
   "outputs": [
    {
     "data": {
      "text/plain": [
       "list"
      ]
     },
     "execution_count": 30,
     "metadata": {},
     "output_type": "execute_result"
    }
   ],
   "source": [
    "type(albums)"
   ]
  },
  {
   "cell_type": "code",
   "execution_count": 31,
   "id": "628c2e8f",
   "metadata": {},
   "outputs": [
    {
     "data": {
      "text/plain": [
       "(156, '...And Justice For All', 50)"
      ]
     },
     "execution_count": 31,
     "metadata": {},
     "output_type": "execute_result"
    }
   ],
   "source": [
    "cur.execute(\"\"\"select * from albums order by title limit 3; \"\"\").fetchone()"
   ]
  },
  {
   "cell_type": "code",
   "execution_count": null,
   "id": "ae70f5d2",
   "metadata": {},
   "outputs": [],
   "source": []
  },
  {
   "cell_type": "code",
   "execution_count": 32,
   "id": "d6437a52",
   "metadata": {},
   "outputs": [],
   "source": [
    "albumdata = cur.execute(\"\"\"select * from albums order by title limit 3; \"\"\").fetchmany(5)"
   ]
  },
  {
   "cell_type": "code",
   "execution_count": 33,
   "id": "0f70701d",
   "metadata": {},
   "outputs": [
    {
     "data": {
      "text/plain": [
       "[(156, '...And Justice For All', 50),\n",
       " (257,\n",
       "  '20th Century Masters - The Millennium Collection: The Best of Scorpions',\n",
       "  179),\n",
       " (296, 'A Copland Celebration, Vol. I', 230)]"
      ]
     },
     "execution_count": 33,
     "metadata": {},
     "output_type": "execute_result"
    }
   ],
   "source": [
    "albumdata"
   ]
  },
  {
   "cell_type": "code",
   "execution_count": 62,
   "id": "655cd44a",
   "metadata": {},
   "outputs": [
    {
     "data": {
      "text/html": [
       "<div>\n",
       "<style scoped>\n",
       "    .dataframe tbody tr th:only-of-type {\n",
       "        vertical-align: middle;\n",
       "    }\n",
       "\n",
       "    .dataframe tbody tr th {\n",
       "        vertical-align: top;\n",
       "    }\n",
       "\n",
       "    .dataframe thead th {\n",
       "        text-align: right;\n",
       "    }\n",
       "</style>\n",
       "<table border=\"1\" class=\"dataframe\">\n",
       "  <thead>\n",
       "    <tr style=\"text-align: right;\">\n",
       "      <th></th>\n",
       "      <th>0</th>\n",
       "      <th>1</th>\n",
       "      <th>2</th>\n",
       "    </tr>\n",
       "  </thead>\n",
       "  <tbody>\n",
       "    <tr>\n",
       "      <th>0</th>\n",
       "      <td>156</td>\n",
       "      <td>...And Justice For All</td>\n",
       "      <td>50</td>\n",
       "    </tr>\n",
       "    <tr>\n",
       "      <th>1</th>\n",
       "      <td>257</td>\n",
       "      <td>20th Century Masters - The Millennium Collecti...</td>\n",
       "      <td>179</td>\n",
       "    </tr>\n",
       "    <tr>\n",
       "      <th>2</th>\n",
       "      <td>296</td>\n",
       "      <td>A Copland Celebration, Vol. I</td>\n",
       "      <td>230</td>\n",
       "    </tr>\n",
       "  </tbody>\n",
       "</table>\n",
       "</div>"
      ],
      "text/plain": [
       "     0                                                  1    2\n",
       "0  156                             ...And Justice For All   50\n",
       "1  257  20th Century Masters - The Millennium Collecti...  179\n",
       "2  296                      A Copland Celebration, Vol. I  230"
      ]
     },
     "execution_count": 62,
     "metadata": {},
     "output_type": "execute_result"
    }
   ],
   "source": [
    "#convert the list returned to a dataframe..\n",
    "\n",
    "\n",
    "from pandas import DataFrame\n",
    "\n",
    "\n",
    "\n",
    "DataFrame(albumdata)\n",
    "#and if you want assign enything into this data frame just make it like this\n",
    "#df = DataFrame(albumdata)\n"
   ]
  },
  {
   "cell_type": "code",
   "execution_count": 63,
   "id": "945ef9dd",
   "metadata": {},
   "outputs": [
    {
     "data": {
      "text/html": [
       "<div>\n",
       "<style scoped>\n",
       "    .dataframe tbody tr th:only-of-type {\n",
       "        vertical-align: middle;\n",
       "    }\n",
       "\n",
       "    .dataframe tbody tr th {\n",
       "        vertical-align: top;\n",
       "    }\n",
       "\n",
       "    .dataframe thead th {\n",
       "        text-align: right;\n",
       "    }\n",
       "</style>\n",
       "<table border=\"1\" class=\"dataframe\">\n",
       "  <thead>\n",
       "    <tr style=\"text-align: right;\">\n",
       "      <th></th>\n",
       "      <th>AlbumId</th>\n",
       "      <th>Title</th>\n",
       "      <th>ArtistId</th>\n",
       "    </tr>\n",
       "  </thead>\n",
       "  <tbody>\n",
       "    <tr>\n",
       "      <th>0</th>\n",
       "      <td>1</td>\n",
       "      <td>For Those About To Rock We Salute You</td>\n",
       "      <td>1</td>\n",
       "    </tr>\n",
       "    <tr>\n",
       "      <th>1</th>\n",
       "      <td>2</td>\n",
       "      <td>Balls to the Wall</td>\n",
       "      <td>2</td>\n",
       "    </tr>\n",
       "    <tr>\n",
       "      <th>2</th>\n",
       "      <td>3</td>\n",
       "      <td>Restless and Wild</td>\n",
       "      <td>2</td>\n",
       "    </tr>\n",
       "    <tr>\n",
       "      <th>3</th>\n",
       "      <td>4</td>\n",
       "      <td>Let There Be Rock</td>\n",
       "      <td>1</td>\n",
       "    </tr>\n",
       "    <tr>\n",
       "      <th>4</th>\n",
       "      <td>5</td>\n",
       "      <td>Big Ones</td>\n",
       "      <td>3</td>\n",
       "    </tr>\n",
       "  </tbody>\n",
       "</table>\n",
       "</div>"
      ],
      "text/plain": [
       "   AlbumId                                  Title  ArtistId\n",
       "0        1  For Those About To Rock We Salute You         1\n",
       "1        2                      Balls to the Wall         2\n",
       "2        3                      Restless and Wild         2\n",
       "3        4                      Let There Be Rock         1\n",
       "4        5                               Big Ones         3"
      ]
     },
     "execution_count": 63,
     "metadata": {},
     "output_type": "execute_result"
    }
   ],
   "source": [
    "import sqlite3 \n",
    "import pandas as pd\n",
    "\n",
    "# return query results as a dataframe\n",
    "\n",
    "dfalbum = pd.read_sql_query(\"SELECT * FROM albums\", conn)\n",
    "dfalbum.head()"
   ]
  },
  {
   "cell_type": "code",
   "execution_count": null,
   "id": "06ec6760",
   "metadata": {},
   "outputs": [],
   "source": []
  },
  {
   "cell_type": "markdown",
   "id": "e86b9cc9",
   "metadata": {},
   "source": [
    "# SQLite has a database catalog"
   ]
  },
  {
   "cell_type": "code",
   "execution_count": null,
   "id": "a063c92d",
   "metadata": {},
   "outputs": [],
   "source": []
  },
  {
   "cell_type": "code",
   "execution_count": 36,
   "id": "cec63e71",
   "metadata": {},
   "outputs": [
    {
     "data": {
      "text/html": [
       "<div>\n",
       "<style scoped>\n",
       "    .dataframe tbody tr th:only-of-type {\n",
       "        vertical-align: middle;\n",
       "    }\n",
       "\n",
       "    .dataframe tbody tr th {\n",
       "        vertical-align: top;\n",
       "    }\n",
       "\n",
       "    .dataframe thead th {\n",
       "        text-align: right;\n",
       "    }\n",
       "</style>\n",
       "<table border=\"1\" class=\"dataframe\">\n",
       "  <thead>\n",
       "    <tr style=\"text-align: right;\">\n",
       "      <th></th>\n",
       "      <th>type</th>\n",
       "      <th>name</th>\n",
       "      <th>tbl_name</th>\n",
       "      <th>rootpage</th>\n",
       "      <th>sql</th>\n",
       "    </tr>\n",
       "  </thead>\n",
       "  <tbody>\n",
       "    <tr>\n",
       "      <th>0</th>\n",
       "      <td>table</td>\n",
       "      <td>albums</td>\n",
       "      <td>albums</td>\n",
       "      <td>2</td>\n",
       "      <td>CREATE TABLE \"albums\"\\r\\n(\\r\\n    [AlbumId] IN...</td>\n",
       "    </tr>\n",
       "    <tr>\n",
       "      <th>1</th>\n",
       "      <td>table</td>\n",
       "      <td>sqlite_sequence</td>\n",
       "      <td>sqlite_sequence</td>\n",
       "      <td>3</td>\n",
       "      <td>CREATE TABLE sqlite_sequence(name,seq)</td>\n",
       "    </tr>\n",
       "    <tr>\n",
       "      <th>2</th>\n",
       "      <td>table</td>\n",
       "      <td>artists</td>\n",
       "      <td>artists</td>\n",
       "      <td>4</td>\n",
       "      <td>CREATE TABLE \"artists\"\\r\\n(\\r\\n    [ArtistId] ...</td>\n",
       "    </tr>\n",
       "    <tr>\n",
       "      <th>3</th>\n",
       "      <td>table</td>\n",
       "      <td>customers</td>\n",
       "      <td>customers</td>\n",
       "      <td>5</td>\n",
       "      <td>CREATE TABLE \"customers\"\\r\\n(\\r\\n    [Customer...</td>\n",
       "    </tr>\n",
       "    <tr>\n",
       "      <th>4</th>\n",
       "      <td>table</td>\n",
       "      <td>employees</td>\n",
       "      <td>employees</td>\n",
       "      <td>8</td>\n",
       "      <td>CREATE TABLE \"employees\"\\r\\n(\\r\\n    [Employee...</td>\n",
       "    </tr>\n",
       "    <tr>\n",
       "      <th>5</th>\n",
       "      <td>table</td>\n",
       "      <td>genres</td>\n",
       "      <td>genres</td>\n",
       "      <td>10</td>\n",
       "      <td>CREATE TABLE \"genres\"\\r\\n(\\r\\n    [GenreId] IN...</td>\n",
       "    </tr>\n",
       "    <tr>\n",
       "      <th>6</th>\n",
       "      <td>table</td>\n",
       "      <td>invoices</td>\n",
       "      <td>invoices</td>\n",
       "      <td>11</td>\n",
       "      <td>CREATE TABLE \"invoices\"\\r\\n(\\r\\n    [InvoiceId...</td>\n",
       "    </tr>\n",
       "    <tr>\n",
       "      <th>7</th>\n",
       "      <td>table</td>\n",
       "      <td>invoice_items</td>\n",
       "      <td>invoice_items</td>\n",
       "      <td>13</td>\n",
       "      <td>CREATE TABLE \"invoice_items\"\\r\\n(\\r\\n    [Invo...</td>\n",
       "    </tr>\n",
       "    <tr>\n",
       "      <th>8</th>\n",
       "      <td>table</td>\n",
       "      <td>media_types</td>\n",
       "      <td>media_types</td>\n",
       "      <td>15</td>\n",
       "      <td>CREATE TABLE \"media_types\"\\r\\n(\\r\\n    [MediaT...</td>\n",
       "    </tr>\n",
       "    <tr>\n",
       "      <th>9</th>\n",
       "      <td>table</td>\n",
       "      <td>playlists</td>\n",
       "      <td>playlists</td>\n",
       "      <td>16</td>\n",
       "      <td>CREATE TABLE \"playlists\"\\r\\n(\\r\\n    [Playlist...</td>\n",
       "    </tr>\n",
       "    <tr>\n",
       "      <th>10</th>\n",
       "      <td>table</td>\n",
       "      <td>playlist_track</td>\n",
       "      <td>playlist_track</td>\n",
       "      <td>17</td>\n",
       "      <td>CREATE TABLE \"playlist_track\"\\r\\n(\\r\\n    [Pla...</td>\n",
       "    </tr>\n",
       "    <tr>\n",
       "      <th>11</th>\n",
       "      <td>table</td>\n",
       "      <td>tracks</td>\n",
       "      <td>tracks</td>\n",
       "      <td>20</td>\n",
       "      <td>CREATE TABLE \"tracks\"\\r\\n(\\r\\n    [TrackId] IN...</td>\n",
       "    </tr>\n",
       "    <tr>\n",
       "      <th>12</th>\n",
       "      <td>table</td>\n",
       "      <td>sqlite_stat1</td>\n",
       "      <td>sqlite_stat1</td>\n",
       "      <td>864</td>\n",
       "      <td>CREATE TABLE sqlite_stat1(tbl,idx,stat)</td>\n",
       "    </tr>\n",
       "  </tbody>\n",
       "</table>\n",
       "</div>"
      ],
      "text/plain": [
       "     type             name         tbl_name  rootpage  \\\n",
       "0   table           albums           albums         2   \n",
       "1   table  sqlite_sequence  sqlite_sequence         3   \n",
       "2   table          artists          artists         4   \n",
       "3   table        customers        customers         5   \n",
       "4   table        employees        employees         8   \n",
       "5   table           genres           genres        10   \n",
       "6   table         invoices         invoices        11   \n",
       "7   table    invoice_items    invoice_items        13   \n",
       "8   table      media_types      media_types        15   \n",
       "9   table        playlists        playlists        16   \n",
       "10  table   playlist_track   playlist_track        17   \n",
       "11  table           tracks           tracks        20   \n",
       "12  table     sqlite_stat1     sqlite_stat1       864   \n",
       "\n",
       "                                                  sql  \n",
       "0   CREATE TABLE \"albums\"\\r\\n(\\r\\n    [AlbumId] IN...  \n",
       "1              CREATE TABLE sqlite_sequence(name,seq)  \n",
       "2   CREATE TABLE \"artists\"\\r\\n(\\r\\n    [ArtistId] ...  \n",
       "3   CREATE TABLE \"customers\"\\r\\n(\\r\\n    [Customer...  \n",
       "4   CREATE TABLE \"employees\"\\r\\n(\\r\\n    [Employee...  \n",
       "5   CREATE TABLE \"genres\"\\r\\n(\\r\\n    [GenreId] IN...  \n",
       "6   CREATE TABLE \"invoices\"\\r\\n(\\r\\n    [InvoiceId...  \n",
       "7   CREATE TABLE \"invoice_items\"\\r\\n(\\r\\n    [Invo...  \n",
       "8   CREATE TABLE \"media_types\"\\r\\n(\\r\\n    [MediaT...  \n",
       "9   CREATE TABLE \"playlists\"\\r\\n(\\r\\n    [Playlist...  \n",
       "10  CREATE TABLE \"playlist_track\"\\r\\n(\\r\\n    [Pla...  \n",
       "11  CREATE TABLE \"tracks\"\\r\\n(\\r\\n    [TrackId] IN...  \n",
       "12            CREATE TABLE sqlite_stat1(tbl,idx,stat)  "
      ]
     },
     "execution_count": 36,
     "metadata": {},
     "output_type": "execute_result"
    }
   ],
   "source": [
    "pd.read_sql_query(\"select * from sqlite_master where type = 'table';\", conn)"
   ]
  },
  {
   "cell_type": "code",
   "execution_count": null,
   "id": "60b2da7a",
   "metadata": {},
   "outputs": [],
   "source": []
  },
  {
   "cell_type": "code",
   "execution_count": 37,
   "id": "12b615fc",
   "metadata": {},
   "outputs": [
    {
     "data": {
      "text/html": [
       "<div>\n",
       "<style scoped>\n",
       "    .dataframe tbody tr th:only-of-type {\n",
       "        vertical-align: middle;\n",
       "    }\n",
       "\n",
       "    .dataframe tbody tr th {\n",
       "        vertical-align: top;\n",
       "    }\n",
       "\n",
       "    .dataframe thead th {\n",
       "        text-align: right;\n",
       "    }\n",
       "</style>\n",
       "<table border=\"1\" class=\"dataframe\">\n",
       "  <thead>\n",
       "    <tr style=\"text-align: right;\">\n",
       "      <th></th>\n",
       "      <th>name</th>\n",
       "    </tr>\n",
       "  </thead>\n",
       "  <tbody>\n",
       "    <tr>\n",
       "      <th>0</th>\n",
       "      <td>sqlite_autoindex_playlist_track_1</td>\n",
       "    </tr>\n",
       "    <tr>\n",
       "      <th>1</th>\n",
       "      <td>IFK_AlbumArtistId</td>\n",
       "    </tr>\n",
       "    <tr>\n",
       "      <th>2</th>\n",
       "      <td>IFK_CustomerSupportRepId</td>\n",
       "    </tr>\n",
       "    <tr>\n",
       "      <th>3</th>\n",
       "      <td>IFK_EmployeeReportsTo</td>\n",
       "    </tr>\n",
       "    <tr>\n",
       "      <th>4</th>\n",
       "      <td>IFK_InvoiceCustomerId</td>\n",
       "    </tr>\n",
       "    <tr>\n",
       "      <th>5</th>\n",
       "      <td>IFK_InvoiceLineInvoiceId</td>\n",
       "    </tr>\n",
       "    <tr>\n",
       "      <th>6</th>\n",
       "      <td>IFK_InvoiceLineTrackId</td>\n",
       "    </tr>\n",
       "    <tr>\n",
       "      <th>7</th>\n",
       "      <td>IFK_PlaylistTrackTrackId</td>\n",
       "    </tr>\n",
       "    <tr>\n",
       "      <th>8</th>\n",
       "      <td>IFK_TrackAlbumId</td>\n",
       "    </tr>\n",
       "    <tr>\n",
       "      <th>9</th>\n",
       "      <td>IFK_TrackGenreId</td>\n",
       "    </tr>\n",
       "    <tr>\n",
       "      <th>10</th>\n",
       "      <td>IFK_TrackMediaTypeId</td>\n",
       "    </tr>\n",
       "  </tbody>\n",
       "</table>\n",
       "</div>"
      ],
      "text/plain": [
       "                                 name\n",
       "0   sqlite_autoindex_playlist_track_1\n",
       "1                   IFK_AlbumArtistId\n",
       "2            IFK_CustomerSupportRepId\n",
       "3               IFK_EmployeeReportsTo\n",
       "4               IFK_InvoiceCustomerId\n",
       "5            IFK_InvoiceLineInvoiceId\n",
       "6              IFK_InvoiceLineTrackId\n",
       "7            IFK_PlaylistTrackTrackId\n",
       "8                    IFK_TrackAlbumId\n",
       "9                    IFK_TrackGenreId\n",
       "10               IFK_TrackMediaTypeId"
      ]
     },
     "execution_count": 37,
     "metadata": {},
     "output_type": "execute_result"
    }
   ],
   "source": [
    "pd.read_sql_query(\"select  name from sqlite_master where type = 'index';\", conn)"
   ]
  },
  {
   "cell_type": "code",
   "execution_count": null,
   "id": "120b8784",
   "metadata": {},
   "outputs": [],
   "source": []
  },
  {
   "cell_type": "code",
   "execution_count": 38,
   "id": "ab060ee7",
   "metadata": {},
   "outputs": [],
   "source": [
    "dftablist = pd.read_sql_query(\"select name from sqlite_master where type = 'table';\", conn)"
   ]
  },
  {
   "cell_type": "code",
   "execution_count": 39,
   "id": "7bbe6afb",
   "metadata": {},
   "outputs": [
    {
     "data": {
      "text/html": [
       "<div>\n",
       "<style scoped>\n",
       "    .dataframe tbody tr th:only-of-type {\n",
       "        vertical-align: middle;\n",
       "    }\n",
       "\n",
       "    .dataframe tbody tr th {\n",
       "        vertical-align: top;\n",
       "    }\n",
       "\n",
       "    .dataframe thead th {\n",
       "        text-align: right;\n",
       "    }\n",
       "</style>\n",
       "<table border=\"1\" class=\"dataframe\">\n",
       "  <thead>\n",
       "    <tr style=\"text-align: right;\">\n",
       "      <th></th>\n",
       "      <th>name</th>\n",
       "    </tr>\n",
       "  </thead>\n",
       "  <tbody>\n",
       "    <tr>\n",
       "      <th>0</th>\n",
       "      <td>albums</td>\n",
       "    </tr>\n",
       "    <tr>\n",
       "      <th>1</th>\n",
       "      <td>sqlite_sequence</td>\n",
       "    </tr>\n",
       "    <tr>\n",
       "      <th>2</th>\n",
       "      <td>artists</td>\n",
       "    </tr>\n",
       "  </tbody>\n",
       "</table>\n",
       "</div>"
      ],
      "text/plain": [
       "              name\n",
       "0           albums\n",
       "1  sqlite_sequence\n",
       "2          artists"
      ]
     },
     "execution_count": 39,
     "metadata": {},
     "output_type": "execute_result"
    }
   ],
   "source": [
    "dftablist.head(3)"
   ]
  },
  {
   "cell_type": "code",
   "execution_count": null,
   "id": "81d34843",
   "metadata": {},
   "outputs": [],
   "source": []
  },
  {
   "cell_type": "code",
   "execution_count": 40,
   "id": "13e2ebe6",
   "metadata": {},
   "outputs": [],
   "source": [
    "# GET TABLE Schema...."
   ]
  },
  {
   "cell_type": "code",
   "execution_count": 41,
   "id": "292b7d46",
   "metadata": {},
   "outputs": [
    {
     "data": {
      "text/html": [
       "<div>\n",
       "<style scoped>\n",
       "    .dataframe tbody tr th:only-of-type {\n",
       "        vertical-align: middle;\n",
       "    }\n",
       "\n",
       "    .dataframe tbody tr th {\n",
       "        vertical-align: top;\n",
       "    }\n",
       "\n",
       "    .dataframe thead th {\n",
       "        text-align: right;\n",
       "    }\n",
       "</style>\n",
       "<table border=\"1\" class=\"dataframe\">\n",
       "  <thead>\n",
       "    <tr style=\"text-align: right;\">\n",
       "      <th></th>\n",
       "      <th>cid</th>\n",
       "      <th>name</th>\n",
       "      <th>type</th>\n",
       "      <th>notnull</th>\n",
       "      <th>dflt_value</th>\n",
       "      <th>pk</th>\n",
       "    </tr>\n",
       "  </thead>\n",
       "  <tbody>\n",
       "    <tr>\n",
       "      <th>0</th>\n",
       "      <td>0</td>\n",
       "      <td>AlbumId</td>\n",
       "      <td>INTEGER</td>\n",
       "      <td>1</td>\n",
       "      <td>None</td>\n",
       "      <td>1</td>\n",
       "    </tr>\n",
       "    <tr>\n",
       "      <th>1</th>\n",
       "      <td>1</td>\n",
       "      <td>Title</td>\n",
       "      <td>NVARCHAR(160)</td>\n",
       "      <td>1</td>\n",
       "      <td>None</td>\n",
       "      <td>0</td>\n",
       "    </tr>\n",
       "    <tr>\n",
       "      <th>2</th>\n",
       "      <td>2</td>\n",
       "      <td>ArtistId</td>\n",
       "      <td>INTEGER</td>\n",
       "      <td>1</td>\n",
       "      <td>None</td>\n",
       "      <td>0</td>\n",
       "    </tr>\n",
       "  </tbody>\n",
       "</table>\n",
       "</div>"
      ],
      "text/plain": [
       "   cid      name           type  notnull dflt_value  pk\n",
       "0    0   AlbumId        INTEGER        1       None   1\n",
       "1    1     Title  NVARCHAR(160)        1       None   0\n",
       "2    2  ArtistId        INTEGER        1       None   0"
      ]
     },
     "execution_count": 41,
     "metadata": {},
     "output_type": "execute_result"
    }
   ],
   "source": [
    "pd.read_sql_query(\"\"\"\n",
    "PRAGMA table_info('albums');\n",
    "\"\"\", conn)"
   ]
  },
  {
   "cell_type": "code",
   "execution_count": null,
   "id": "d26b6039",
   "metadata": {},
   "outputs": [],
   "source": []
  },
  {
   "cell_type": "markdown",
   "id": "058a716a",
   "metadata": {},
   "source": [
    "# Suppressing the default index...."
   ]
  },
  {
   "cell_type": "code",
   "execution_count": 42,
   "id": "b913fa3f",
   "metadata": {},
   "outputs": [
    {
     "data": {
      "text/html": [
       "<div>\n",
       "<style scoped>\n",
       "    .dataframe tbody tr th:only-of-type {\n",
       "        vertical-align: middle;\n",
       "    }\n",
       "\n",
       "    .dataframe tbody tr th {\n",
       "        vertical-align: top;\n",
       "    }\n",
       "\n",
       "    .dataframe thead th {\n",
       "        text-align: right;\n",
       "    }\n",
       "</style>\n",
       "<table border=\"1\" class=\"dataframe\">\n",
       "  <thead>\n",
       "    <tr style=\"text-align: right;\">\n",
       "      <th></th>\n",
       "      <th>Album</th>\n",
       "      <th>Song</th>\n",
       "    </tr>\n",
       "    <tr>\n",
       "      <th>Artist</th>\n",
       "      <th></th>\n",
       "      <th></th>\n",
       "    </tr>\n",
       "  </thead>\n",
       "  <tbody>\n",
       "    <tr>\n",
       "      <th>AC/DC</th>\n",
       "      <td>For Those About</td>\n",
       "      <td>For Those About To Rock (We Salute You)</td>\n",
       "    </tr>\n",
       "    <tr>\n",
       "      <th>AC/DC</th>\n",
       "      <td>For Those About</td>\n",
       "      <td>Put The Finger On You</td>\n",
       "    </tr>\n",
       "    <tr>\n",
       "      <th>AC/DC</th>\n",
       "      <td>For Those About</td>\n",
       "      <td>Let's Get It Up</td>\n",
       "    </tr>\n",
       "    <tr>\n",
       "      <th>AC/DC</th>\n",
       "      <td>For Those About</td>\n",
       "      <td>Inject The Venom</td>\n",
       "    </tr>\n",
       "    <tr>\n",
       "      <th>AC/DC</th>\n",
       "      <td>For Those About</td>\n",
       "      <td>Snowballed</td>\n",
       "    </tr>\n",
       "    <tr>\n",
       "      <th>AC/DC</th>\n",
       "      <td>For Those About</td>\n",
       "      <td>Evil Walks</td>\n",
       "    </tr>\n",
       "    <tr>\n",
       "      <th>AC/DC</th>\n",
       "      <td>For Those About</td>\n",
       "      <td>C.O.D.</td>\n",
       "    </tr>\n",
       "    <tr>\n",
       "      <th>AC/DC</th>\n",
       "      <td>For Those About</td>\n",
       "      <td>Breaking The Rules</td>\n",
       "    </tr>\n",
       "    <tr>\n",
       "      <th>AC/DC</th>\n",
       "      <td>For Those About</td>\n",
       "      <td>Night Of The Long Knives</td>\n",
       "    </tr>\n",
       "    <tr>\n",
       "      <th>AC/DC</th>\n",
       "      <td>For Those About</td>\n",
       "      <td>Spellbound</td>\n",
       "    </tr>\n",
       "    <tr>\n",
       "      <th>AC/DC</th>\n",
       "      <td>Let There Be Ro</td>\n",
       "      <td>Go Down</td>\n",
       "    </tr>\n",
       "    <tr>\n",
       "      <th>AC/DC</th>\n",
       "      <td>Let There Be Ro</td>\n",
       "      <td>Dog Eat Dog</td>\n",
       "    </tr>\n",
       "    <tr>\n",
       "      <th>AC/DC</th>\n",
       "      <td>Let There Be Ro</td>\n",
       "      <td>Let There Be Rock</td>\n",
       "    </tr>\n",
       "    <tr>\n",
       "      <th>AC/DC</th>\n",
       "      <td>Let There Be Ro</td>\n",
       "      <td>Bad Boy Boogie</td>\n",
       "    </tr>\n",
       "    <tr>\n",
       "      <th>AC/DC</th>\n",
       "      <td>Let There Be Ro</td>\n",
       "      <td>Problem Child</td>\n",
       "    </tr>\n",
       "  </tbody>\n",
       "</table>\n",
       "</div>"
      ],
      "text/plain": [
       "                  Album                                     Song\n",
       "Artist                                                          \n",
       "AC/DC   For Those About  For Those About To Rock (We Salute You)\n",
       "AC/DC   For Those About                    Put The Finger On You\n",
       "AC/DC   For Those About                          Let's Get It Up\n",
       "AC/DC   For Those About                         Inject The Venom\n",
       "AC/DC   For Those About                               Snowballed\n",
       "AC/DC   For Those About                               Evil Walks\n",
       "AC/DC   For Those About                                   C.O.D.\n",
       "AC/DC   For Those About                       Breaking The Rules\n",
       "AC/DC   For Those About                 Night Of The Long Knives\n",
       "AC/DC   For Those About                               Spellbound\n",
       "AC/DC   Let There Be Ro                                  Go Down\n",
       "AC/DC   Let There Be Ro                              Dog Eat Dog\n",
       "AC/DC   Let There Be Ro                        Let There Be Rock\n",
       "AC/DC   Let There Be Ro                           Bad Boy Boogie\n",
       "AC/DC   Let There Be Ro                            Problem Child"
      ]
     },
     "execution_count": 42,
     "metadata": {},
     "output_type": "execute_result"
    }
   ],
   "source": [
    "qry = '''\n",
    "select substr(a.name, 1, 10) as Artist,\n",
    "       substr(title,1, 15) as Album,\n",
    "       t.name as Song\n",
    "from albums r\n",
    "join artists a\n",
    "on (r.artistid = a.artistid)\n",
    "join tracks t\n",
    "on (r.albumid = t.albumid)\n",
    "order by a.name, title\n",
    "limit 15;\n",
    "'''\n",
    "\n",
    "pd.read_sql_query(qry, conn, index_col = 'Artist') #index_col replaces the index"
   ]
  },
  {
   "cell_type": "code",
   "execution_count": null,
   "id": "0b16455d",
   "metadata": {},
   "outputs": [],
   "source": []
  },
  {
   "cell_type": "markdown",
   "id": "866e0c5f",
   "metadata": {},
   "source": [
    "# Let's create a new table from a query"
   ]
  },
  {
   "cell_type": "code",
   "execution_count": null,
   "id": "8127a2f8",
   "metadata": {},
   "outputs": [],
   "source": []
  },
  {
   "cell_type": "code",
   "execution_count": null,
   "id": "cb971b0a",
   "metadata": {},
   "outputs": [],
   "source": [
    "# Note The create table statment before the select query....\n",
    "\n",
    "qry = '''\n",
    "create table if not exists top15 as\n",
    "select substr(a.name, 1, 10) as Artist,\n",
    "       substr(title,1, 15) as Album,\n",
    "       t.name as Song\n",
    "from albums r\n",
    "join artists a \n",
    "on (r.ArtistId = a.ArtistId)\n",
    "join tracks t\n",
    "on (r.AlbumId = t.AlbumId)\n",
    "order by a.name, title\n",
    "limit 15;\n",
    "'''\n",
    "\n",
    "\n",
    "albums = cur.execute(qry)"
   ]
  },
  {
   "cell_type": "code",
   "execution_count": null,
   "id": "e0d87404",
   "metadata": {},
   "outputs": [],
   "source": [
    "pd.read_sql_query('select * from top15', conn)"
   ]
  },
  {
   "cell_type": "code",
   "execution_count": null,
   "id": "535aebb0",
   "metadata": {},
   "outputs": [],
   "source": [
    "# but They All not working i dont know"
   ]
  },
  {
   "cell_type": "markdown",
   "id": "f55ae2a5",
   "metadata": {},
   "source": [
    "# Let's Close The connection "
   ]
  },
  {
   "cell_type": "code",
   "execution_count": 79,
   "id": "8ad4b276",
   "metadata": {},
   "outputs": [],
   "source": [
    "cur.close()\n",
    "conn.close()"
   ]
  },
  {
   "cell_type": "markdown",
   "id": "eebc4b81",
   "metadata": {},
   "source": [
    "# Connecting to PostgreSQL"
   ]
  },
  {
   "cell_type": "code",
   "execution_count": null,
   "id": "16dbff8e",
   "metadata": {},
   "outputs": [],
   "source": [
    "pip install -U psycopg2"
   ]
  },
  {
   "cell_type": "code",
   "execution_count": null,
   "id": "34c7cc93",
   "metadata": {},
   "outputs": [],
   "source": []
  },
  {
   "cell_type": "code",
   "execution_count": null,
   "id": "2a4909ed",
   "metadata": {},
   "outputs": [],
   "source": []
  }
 ],
 "metadata": {
  "kernelspec": {
   "display_name": "Python 3 (ipykernel)",
   "language": "python",
   "name": "python3"
  },
  "language_info": {
   "codemirror_mode": {
    "name": "ipython",
    "version": 3
   },
   "file_extension": ".py",
   "mimetype": "text/x-python",
   "name": "python",
   "nbconvert_exporter": "python",
   "pygments_lexer": "ipython3",
   "version": "3.9.12"
  }
 },
 "nbformat": 4,
 "nbformat_minor": 5
}
